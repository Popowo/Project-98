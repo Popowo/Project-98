{
 "metadata": {
  "language_info": {
   "codemirror_mode": {
    "name": "ipython",
    "version": 3
   },
   "file_extension": ".py",
   "mimetype": "text/x-python",
   "name": "python",
   "nbconvert_exporter": "python",
   "pygments_lexer": "ipython3",
   "version": "3.8.6-final"
  },
  "orig_nbformat": 2,
  "kernelspec": {
   "name": "python3",
   "display_name": "Python 3.8.6 64-bit",
   "metadata": {
    "interpreter": {
     "hash": "33b5d7b5b0390d495eb24c0640b0bdda4de840ffb8d73c1468ad5f05f0738cb5"
    }
   }
  }
 },
 "nbformat": 4,
 "nbformat_minor": 2,
 "cells": [
  {
   "cell_type": "code",
   "execution_count": 1,
   "metadata": {},
   "outputs": [],
   "source": [
    "def swap():\n",
    "    f1 = input('Enter File Name')\n",
    "    f2 = input('Second File Name')\n",
    "\n",
    "    with open(f1,'r') as a:\n",
    "        dataA=a.read()\n",
    "    with open (f2,'r') as b:\n",
    "        dataB=b.read()\n",
    "    with open (f1,'w') as a:\n",
    "        a.write(dataB)\n",
    "    with open (f2,'w') as b:\n",
    "        b.write(dataA)"
   ]
  },
  {
   "cell_type": "code",
   "execution_count": 3,
   "metadata": {},
   "outputs": [],
   "source": [
    "swap()"
   ]
  },
  {
   "cell_type": "code",
   "execution_count": null,
   "metadata": {},
   "outputs": [],
   "source": []
  }
 ]
}